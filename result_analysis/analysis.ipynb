{
 "cells": [
  {
   "cell_type": "code",
   "execution_count": 1,
   "metadata": {
    "ExecuteTime": {
     "end_time": "2024-04-08T20:08:35.838315Z",
     "start_time": "2024-04-08T20:08:35.107328Z"
    }
   },
   "outputs": [],
   "source": [
    "import pandas as pd\n",
    "pd.options.mode.chained_assignment = None  # default='warn'\n",
    "import numpy as np\n",
    "from termcolor import *"
   ]
  },
  {
   "cell_type": "code",
   "execution_count": 2,
   "metadata": {
    "ExecuteTime": {
     "end_time": "2024-04-08T20:08:43.189781Z",
     "start_time": "2024-04-08T20:08:42.904784Z"
    }
   },
   "outputs": [],
   "source": [
    "def preprocess(df):\n",
    "    # Drop temp_R, R_precision and matching_score_pred columns\n",
    "    df = df.drop(columns=['temp_R', 'R_precision', 'matching_score_pred'])\n",
    "\n",
    "    # Remove first 4 characters of token column in dataframe (removes sos/ from token string)\n",
    "    df['token'] = df['token'].str[4:]\n",
    "\n",
    "    # Replace every '/' with ' ' in token column\n",
    "    df['token'] = df['token'].str.replace('/', ' ')\n",
    "\n",
    "    # Remove all words that end with a '_' in token column\n",
    "    df['token'] = df['token'].str.replace(r'\\w*_', '', regex=True).str.strip()\n",
    "\n",
    "    # Remove everything after and including eos (probably stands for end of sentence) in token column\n",
    "    df['token'] = df['token'].str.split('eos').str[0]\n",
    "\n",
    "    return df\n",
    "\n",
    "# --- Load data ---\n",
    "# Load altered.log and original.log, split with ; into dataframes\n",
    "original = pd.read_csv('original.log', sep=';')\n",
    "altered = pd.read_csv('altered.log', sep=';')\n",
    "\n",
    "# --- Preprocess data ---\n",
    "original = preprocess(original)\n",
    "altered = preprocess(altered)\n",
    "\n",
    "# Add suffix to columns\n",
    "original = original.add_suffix('_original')\n",
    "altered = altered.add_suffix('_altered')\n",
    "\n",
    "# Fuse the two dataframes together\n",
    "fused = pd.concat([original, altered], axis=1)\n",
    "\n",
    "# Save fused dataframe to csv\n",
    "fused.to_csv('fused.csv', index=False)"
   ]
  },
  {
   "cell_type": "code",
   "execution_count": 3,
   "metadata": {
    "ExecuteTime": {
     "end_time": "2024-04-08T20:08:47.978784Z",
     "start_time": "2024-04-08T20:08:47.940783Z"
    }
   },
   "outputs": [
    {
     "data": {
      "text/plain": "                                         token_original  \\\n0     a man jump and bring both arm above his head a...   \n1     a man hold his arm out in front of him in a sh...   \n2     a person hold their hand in front of them turn...   \n3     a person clasp his hand in front of him then s...   \n4     a person reach forward with the right hand and...   \n...                                                 ...   \n4635            pace back and forth from right to left    \n4636                 a man sit down before rub his leg    \n4637         a person slowly walk without move forward    \n4638                  person is walk on uneven terrain    \n4639                       a person who is dodge thing    \n\n                                          token_altered  \n0     a man step forward hold an object to his head ...  \n1     a man crouch and punch the air with his left h...  \n2     a person run forward and to his left and jump ...  \n3     person walk quickly down a short incline They ...  \n4     the man is march like a soldier He do so by li...  \n...                                                 ...  \n4635  a person take several step in a somewhat rando...  \n4636  a person face forward take a large step to the...  \n4637  a person sit down and talk with their hand The...  \n4638  move forward and take some thing go back after...  \n4639  person is walk on uneven terrain They do so by...  \n\n[4640 rows x 2 columns]",
      "text/html": "<div>\n<style scoped>\n    .dataframe tbody tr th:only-of-type {\n        vertical-align: middle;\n    }\n\n    .dataframe tbody tr th {\n        vertical-align: top;\n    }\n\n    .dataframe thead th {\n        text-align: right;\n    }\n</style>\n<table border=\"1\" class=\"dataframe\">\n  <thead>\n    <tr style=\"text-align: right;\">\n      <th></th>\n      <th>token_original</th>\n      <th>token_altered</th>\n    </tr>\n  </thead>\n  <tbody>\n    <tr>\n      <th>0</th>\n      <td>a man jump and bring both arm above his head a...</td>\n      <td>a man step forward hold an object to his head ...</td>\n    </tr>\n    <tr>\n      <th>1</th>\n      <td>a man hold his arm out in front of him in a sh...</td>\n      <td>a man crouch and punch the air with his left h...</td>\n    </tr>\n    <tr>\n      <th>2</th>\n      <td>a person hold their hand in front of them turn...</td>\n      <td>a person run forward and to his left and jump ...</td>\n    </tr>\n    <tr>\n      <th>3</th>\n      <td>a person clasp his hand in front of him then s...</td>\n      <td>person walk quickly down a short incline They ...</td>\n    </tr>\n    <tr>\n      <th>4</th>\n      <td>a person reach forward with the right hand and...</td>\n      <td>the man is march like a soldier He do so by li...</td>\n    </tr>\n    <tr>\n      <th>...</th>\n      <td>...</td>\n      <td>...</td>\n    </tr>\n    <tr>\n      <th>4635</th>\n      <td>pace back and forth from right to left</td>\n      <td>a person take several step in a somewhat rando...</td>\n    </tr>\n    <tr>\n      <th>4636</th>\n      <td>a man sit down before rub his leg</td>\n      <td>a person face forward take a large step to the...</td>\n    </tr>\n    <tr>\n      <th>4637</th>\n      <td>a person slowly walk without move forward</td>\n      <td>a person sit down and talk with their hand The...</td>\n    </tr>\n    <tr>\n      <th>4638</th>\n      <td>person is walk on uneven terrain</td>\n      <td>move forward and take some thing go back after...</td>\n    </tr>\n    <tr>\n      <th>4639</th>\n      <td>a person who is dodge thing</td>\n      <td>person is walk on uneven terrain They do so by...</td>\n    </tr>\n  </tbody>\n</table>\n<p>4640 rows × 2 columns</p>\n</div>"
     },
     "execution_count": 3,
     "metadata": {},
     "output_type": "execute_result"
    }
   ],
   "source": [
    "fused[['token_original', 'token_altered']]"
   ]
  },
  {
   "cell_type": "code",
   "execution_count": 4,
   "metadata": {
    "ExecuteTime": {
     "end_time": "2024-04-08T20:09:07.942810Z",
     "start_time": "2024-04-08T20:09:07.924811Z"
    }
   },
   "outputs": [
    {
     "data": {
      "text/plain": "      temp_match_altered                                      token_altered\n0               3.061639  a man step forward hold an object to his head ...\n1               2.776492  a man crouch and punch the air with his left h...\n2               1.808012  a person run forward and to his left and jump ...\n3               3.298793  person walk quickly down a short incline They ...\n4               2.006741  the man is march like a soldier He do so by li...\n...                  ...                                                ...\n4635            8.384559  a person take several step in a somewhat rando...\n4636            3.714846  a person face forward take a large step to the...\n4637            2.007957  a person sit down and talk with their hand The...\n4638            5.977048  move forward and take some thing go back after...\n4639            4.405928  person is walk on uneven terrain They do so by...\n\n[4640 rows x 2 columns]",
      "text/html": "<div>\n<style scoped>\n    .dataframe tbody tr th:only-of-type {\n        vertical-align: middle;\n    }\n\n    .dataframe tbody tr th {\n        vertical-align: top;\n    }\n\n    .dataframe thead th {\n        text-align: right;\n    }\n</style>\n<table border=\"1\" class=\"dataframe\">\n  <thead>\n    <tr style=\"text-align: right;\">\n      <th></th>\n      <th>temp_match_altered</th>\n      <th>token_altered</th>\n    </tr>\n  </thead>\n  <tbody>\n    <tr>\n      <th>0</th>\n      <td>3.061639</td>\n      <td>a man step forward hold an object to his head ...</td>\n    </tr>\n    <tr>\n      <th>1</th>\n      <td>2.776492</td>\n      <td>a man crouch and punch the air with his left h...</td>\n    </tr>\n    <tr>\n      <th>2</th>\n      <td>1.808012</td>\n      <td>a person run forward and to his left and jump ...</td>\n    </tr>\n    <tr>\n      <th>3</th>\n      <td>3.298793</td>\n      <td>person walk quickly down a short incline They ...</td>\n    </tr>\n    <tr>\n      <th>4</th>\n      <td>2.006741</td>\n      <td>the man is march like a soldier He do so by li...</td>\n    </tr>\n    <tr>\n      <th>...</th>\n      <td>...</td>\n      <td>...</td>\n    </tr>\n    <tr>\n      <th>4635</th>\n      <td>8.384559</td>\n      <td>a person take several step in a somewhat rando...</td>\n    </tr>\n    <tr>\n      <th>4636</th>\n      <td>3.714846</td>\n      <td>a person face forward take a large step to the...</td>\n    </tr>\n    <tr>\n      <th>4637</th>\n      <td>2.007957</td>\n      <td>a person sit down and talk with their hand The...</td>\n    </tr>\n    <tr>\n      <th>4638</th>\n      <td>5.977048</td>\n      <td>move forward and take some thing go back after...</td>\n    </tr>\n    <tr>\n      <th>4639</th>\n      <td>4.405928</td>\n      <td>person is walk on uneven terrain They do so by...</td>\n    </tr>\n  </tbody>\n</table>\n<p>4640 rows × 2 columns</p>\n</div>"
     },
     "execution_count": 4,
     "metadata": {},
     "output_type": "execute_result"
    }
   ],
   "source": [
    "altered"
   ]
  },
  {
   "cell_type": "code",
   "execution_count": 8,
   "metadata": {},
   "outputs": [],
   "source": [
    "# Old version based on actually joining\n",
    "\n",
    "# def preprocess(df):\n",
    "#     # Drop temp_R, R_precision and matching_score_pred columns\n",
    "#     df = df.drop(columns=['temp_R', 'R_precision', 'matching_score_pred'])\n",
    "\n",
    "#     # Remove first 4 characters of token column in dataframe (removes sos/ from token string)\n",
    "#     df['token'] = df['token'].str[4:]\n",
    "\n",
    "#     # Replace every '/' with ' ' in token column\n",
    "#     df['token'] = df['token'].str.replace('/', ' ')\n",
    "\n",
    "#     # Remove all words that end with a '_' in token column\n",
    "#     df['token'] = df['token'].str.replace(r'\\w*_', '', regex=True).str.strip()\n",
    "\n",
    "#     # Remove everything after and including eos (probably stands for end of sentence) in token column\n",
    "#     df['token'] = df['token'].str.split('eos').str[0]\n",
    "\n",
    "#     return df\n",
    "\n",
    "# # --- Load data ---\n",
    "# # Load altered.log and original.log, split with ; into dataframes\n",
    "# original = pd.read_csv('original.log', sep=';')\n",
    "# altered = pd.read_csv('altered.log', sep=';')\n",
    "\n",
    "# # --- Preprocess data ---\n",
    "# original = preprocess(original)\n",
    "# altered = preprocess(altered)\n",
    "\n",
    "# # Add suffix to columns\n",
    "# original = original.add_suffix('_original')\n",
    "# altered = altered.add_suffix('_altered')\n",
    "\n",
    "# altered['token_original'] = altered['token_altered'].str.split('They do').str[0]\n",
    "\n",
    "# # Merge based on token_original, note that this is not accurate as the token_original is not unique in the test dataset\n",
    "# fused = pd.merge(original, altered, how='inner', on='token_original')\n",
    "\n",
    "# # Shuffle column order\n",
    "# fused = fused[['temp_match_original', 'temp_match_altered', 'token_original', 'token_altered']]\n",
    "\n",
    "# # Save fused dataframe to csv\n",
    "# fused.to_csv('fused_alternative.csv', index=False)"
   ]
  },
  {
   "cell_type": "code",
   "execution_count": 5,
   "metadata": {
    "ExecuteTime": {
     "end_time": "2024-04-08T20:09:13.712151Z",
     "start_time": "2024-04-08T20:09:13.668126Z"
    }
   },
   "outputs": [
    {
     "name": "stdout",
     "output_type": "stream",
     "text": [
      "Mean Org.: 2.7129750189418695\n",
      "Mean Alt.: 3.1791826616736327\n",
      "Altered worse than original: 1992\n",
      "Original worse than altered: 3272\n",
      "\n",
      "\n",
      "\u001B[1m\u001B[32mTop 10 improvements\u001B[0m\n",
      "\u001B[34mOriginal token: \u001B[0mstickman right hand wave five time with full motion from elbow to hand extension \n",
      "\u001B[34mAdded info: \u001B[0mThey do so by repeatedly bend \n",
      "\n",
      "\n",
      "\u001B[34mOriginal token: \u001B[0mthe person throw some thing forward \n",
      "\u001B[34mAdded info: \u001B[0mThey do so by extend and release their arm forward \n",
      "\n",
      "\n",
      "\u001B[34mOriginal token: \u001B[0ma figure move arm both from the center to the outward and back to the center four stroke \n",
      "\u001B[34mAdded info: \u001B[0mThey do \n",
      "\n",
      "\n",
      "\u001B[34mOriginal token: \u001B[0ma man go from have his hand up ready to fight with left foot forward to kneel on his right \n",
      "\u001B[34mAdded info: \u001B[0m-\n",
      "\n",
      "\n",
      "\u001B[34mOriginal token: \u001B[0mperson stand with both foot firmly plant on the ground upper body move very slightly \n",
      "\u001B[34mAdded info: \u001B[0mThey do so by subtly \n",
      "\n",
      "\n",
      "\u001B[34mOriginal token: \u001B[0ma person walksclockwose to almost complete a cycle \n",
      "\u001B[34mAdded info: \u001B[0mThey do so by alternate step with both leg in a circular \n",
      "\n",
      "\n",
      "\u001B[34mOriginal token: \u001B[0mperson move to side and climb some step \n",
      "\u001B[34mAdded info: \u001B[0mThey do so by laterally shift and lift their leg \n",
      "\n",
      "\n",
      "\u001B[34mOriginal token: \u001B[0mthe person hop a big step to the right \n",
      "\u001B[34mAdded info: \u001B[0mThey do so by push off their left foot and land \n",
      "\n",
      "\n",
      "\u001B[34mOriginal token: \u001B[0ma person who is stand with his hand by his side jog clockwise in ever widen circle \n",
      "\u001B[34mAdded info: \u001B[0mThey do so \n",
      "\n",
      "\n",
      "\u001B[34mOriginal token: \u001B[0ma person jump over a puddle \n",
      "\u001B[34mAdded info: \u001B[0mThey do so by swiftly push off the ground with both leg \n"
     ]
    }
   ],
   "source": [
    "# --- Analysis ---\n",
    "fused = pd.read_csv('fused_alternative.csv')\n",
    "\n",
    "print(f\"Mean Org.: {fused['temp_match_original'].mean()}\")\n",
    "print(f\"Mean Alt.: {fused['temp_match_altered'].mean()}\")\n",
    "\n",
    "improvements = fused[fused['temp_match_altered'] < fused['temp_match_original']]\n",
    "degradations = fused[fused['temp_match_altered'] > fused['temp_match_original']]\n",
    "\n",
    "# Figure out how many times the altered temp_match is higher than the original and vice-versa\n",
    "print(f\"Altered worse than original: {len(improvements)}\")\n",
    "print(f\"Original worse than altered: {len(degradations)}\")\n",
    "print('\\n')\n",
    "\n",
    "improvements['diff'] = improvements['temp_match_original'] - improvements['temp_match_altered']\n",
    "degradations['diff'] = degradations['temp_match_altered'] - degradations['temp_match_original']\n",
    "\n",
    "# Sort by diff\n",
    "improvements = improvements.sort_values(by='diff', ascending=False)\n",
    "degradations = degradations.sort_values(by='diff', ascending=False)\n",
    "\n",
    "cprint('Top 10 improvements', 'green', attrs=['bold'])\n",
    "for i in range(10):\n",
    "    print(colored(\"Original token: \", 'blue') + improvements['token_original'].iloc[i])\n",
    "    try:\n",
    "        print(colored(\"Added info: \", 'blue') + \"They do\" + improvements['token_altered'].iloc[i].split('They do')[1])\n",
    "    except:\n",
    "        print(colored(\"Added info: \", 'blue') + \"-\")\n",
    "    print('\\n')"
   ]
  },
  {
   "cell_type": "code",
   "execution_count": 6,
   "metadata": {
    "ExecuteTime": {
     "end_time": "2024-04-08T20:09:15.191337Z",
     "start_time": "2024-04-08T20:09:15.181341Z"
    }
   },
   "outputs": [
    {
     "name": "stdout",
     "output_type": "stream",
     "text": [
      "\u001B[1m\u001B[31mTop 10 degradations\u001B[0m\n",
      "\u001B[34mOriginal token: \u001B[0ma person who is stand with his hand by his side jog counterclockwise in ever widen circle \n",
      "\u001B[34mAdded info: \u001B[0mThey do so \n",
      "\n",
      "\n",
      "\u001B[34mOriginal token: \u001B[0ma person walk slightly to the side then walk back in a slightly exaggerated manner \n",
      "\u001B[34mAdded info: \u001B[0mThey do so by sway \n",
      "\n",
      "\n",
      "\u001B[34mOriginal token: \u001B[0ma person walk diagonally and raise arm in a t pose and seem to be balance on a wide beam \n",
      "\u001B[34mAdded info: \u001B[0m-\n",
      "\n",
      "\n",
      "\u001B[34mOriginal token: \u001B[0ma person pace back and forth \n",
      "\u001B[34mAdded info: \u001B[0mThey do so by alternatively shift their weight from one foot to the other \n",
      "\n",
      "\n",
      "\u001B[34mOriginal token: \u001B[0ma person walk diagonally and raise arm in a t pose and seem to be balance on a wide beam \n",
      "\u001B[34mAdded info: \u001B[0m-\n",
      "\n",
      "\n",
      "\u001B[34mOriginal token: \u001B[0ma person stand on one foot hold their left hand up while move their right foot in a side to \n",
      "\u001B[34mAdded info: \u001B[0m-\n",
      "\n",
      "\n",
      "\u001B[34mOriginal token: \u001B[0man individual take a long slow drink of something \n",
      "\u001B[34mAdded info: \u001B[0mThey do so by slowly raise a glass to their lip \n",
      "\n",
      "\n",
      "\u001B[34mOriginal token: \u001B[0ma stand person is use both their right and left foot to do a slow jog in place \n",
      "\u001B[34mAdded info: \u001B[0mThey do \n",
      "\n",
      "\n",
      "\u001B[34mOriginal token: \u001B[0ma person slowly walk in left direction while shake the hand \n",
      "\u001B[34mAdded info: \u001B[0mThey do so by shuffle to the left while \n",
      "\n",
      "\n",
      "\u001B[34mOriginal token: \u001B[0man individual take a long slow drink of something \n",
      "\u001B[34mAdded info: \u001B[0mThey do so by slowly raise a glass to their lip \n"
     ]
    }
   ],
   "source": [
    "cprint('Top 10 degradations', 'red', attrs=['bold'])\n",
    "for i in range(10):\n",
    "    print(colored(\"Original token: \", 'blue') + degradations['token_original'].iloc[i])\n",
    "    try:\n",
    "        print(colored(\"Added info: \", 'blue') + \"They do\" + degradations['token_altered'].iloc[i].split('They do')[1])\n",
    "    except:\n",
    "        print(colored(\"Added info: \", 'blue') + \"-\")\n",
    "    print('\\n')"
   ]
  }
 ],
 "metadata": {
  "kernelspec": {
   "display_name": "Python 3",
   "language": "python",
   "name": "python3"
  },
  "language_info": {
   "codemirror_mode": {
    "name": "ipython",
    "version": 3
   },
   "file_extension": ".py",
   "mimetype": "text/x-python",
   "name": "python",
   "nbconvert_exporter": "python",
   "pygments_lexer": "ipython3",
   "version": "3.10.0"
  }
 },
 "nbformat": 4,
 "nbformat_minor": 2
}
