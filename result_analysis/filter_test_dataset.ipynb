{
 "cells": [
  {
   "cell_type": "markdown",
   "metadata": {},
   "source": [
    "This file filters the test dataset from Momask T2M based on positive key words (=keep) and negative key words (=drop). Make sure, that the T2M dataset is accurately saved as described in the ReadMe of Momask.\n",
    "\n",
    "The file outputs a new \"test.txt\" file, which can replace the original T2M \"test.txt\" for evaluation."
   ]
  },
  {
   "cell_type": "code",
   "execution_count": null,
   "metadata": {},
   "outputs": [],
   "source": [
    "# import statements\n",
    "import os\n",
    "from tqdm import tqdm"
   ]
  },
  {
   "cell_type": "code",
   "execution_count": null,
   "metadata": {},
   "outputs": [],
   "source": [
    "# Change the following and uncomment the lists you want to use.\n",
    "PROJECT_ROOT_DIR = \"/Users/annel/Documents/Github Repositories/DigitalHumans\" # the project root directory\n",
    "\n",
    "# left-right specification:\n",
    "# test_file_name = \"left_right\"\n",
    "# positive_key_word_list = [\"left\", \"right\"]\n",
    "# negative_key_word_list = []\n",
    "\n",
    "# emotions:\n",
    "# test_file_name = \"emotions\"\n",
    "# positive_key_word_list = [\"happy\", \"sad\", \"angry\", \"fearful\", \"surprised\", \"disgusted\", \"anxious\", \"confident\", \"jealous\", \"proud\", \"excited\", \"bored\", \"love\", \"hopeful\", \"guilty\", \"relieved\", \"ashamed\", \"embarrassed\", \"content\", \"frustrated\", \"happily\", \"sadly\", \"angrily\", \"fearfully\", \"surprisingly\", \"disgustedly\", \"anxiously\", \"confidently\", \"jealously\", \"proudly\", \"excitedly\", \"boredly\", \"lovingly\", \"hopefully\", \"guiltily\", \"relievedly\", \"ashamedly\", \"embarrassingly\", \"contentedly\", \"frustratedly\"]\n",
    "# negative_key_word_list = []\n",
    "\n",
    "# adjectives:\n",
    "# test_file_name = \"adjectives\"\n",
    "# positive_key_word_list = [\"fast\", \"slow\", \"graceful\", \"clumsy\", \"steady\", \"erratic\", \"quick\", \"lethargic\", \"smooth\", \"rough\", \"agile\", \"awkward\", \"nimble\", \"brisk\", \"sluggish\", \"hurried\", \"relaxed\", \"sprightly\", \"jerky\", \"fluid\", \"deliberate\", \"hasty\", \"cautious\", \"vigorous\", \"lively\", \"mechanical\", \"frenzied\", \"graceful\", \"haphazard\", \"energetic\", \"purposeful\", \"tentative\",  \"slowly\", \"gracefully\", \"clumsily\", \"steadily\", \"erratically\", \"quickly\", \"lethargically\", \"smoothly\", \"roughly\", \"agilely\", \"awkwardly\", \"nimbly\", \"briskly\", \"sluggishly\", \"hurriedly\", \"relaxedly\", \"sprightly\", \"jerkily\", \"fluidly\", \"deliberately\", \"hastily\", \"cautiously\", \"vigorously\", \"lively\", \"mechanically\", \"frenziedly\", \"gracefully\", \"haphazardly\", \"energetically\", \"purposefully\", \"tentatively\"]\n",
    "# negative_key_word_list = []\n",
    "\n",
    "# limbs:\n",
    "# test_file_name = \"limbs\"\n",
    "# positive_key_word_list = [\"head\", \"torso\", \"arm\", \"leg\", \"hand\", \"foot\", \"finger\", \"toe\", \"thumb\", \"wrist\", \"ankle\", \"elbow\", \"knee\", \"forearm\", \"upper arm\", \"shin\", \"calf\", \"thigh\", \"palm\", \"heel\", \"shoulder\", \"hip\", \"neck\", \"chest\", \"back\", \"abdomen\", \"waist\", \"groin\", \"buttocks\", \"nape\", \"scalp\", \"forehead\", \"cheek\", \"chin\", \"jaw\", \"nose\", \"mouth\", \"ear\", \"eye\", \"eyebrow\", \"eyelid\", \"lip\", \"tongue\"]\n",
    "# negative_key_word_list = []\n",
    "\n",
    "# High level Yoga poses:\n",
    "# test_file_name = \"yoga_low_level\"\n",
    "# positive_key_word_list = [\"Mountain\", \"Downward-Facing Dog\", \"Warrior\", \"Tree\", \"Child\", \"Seated Forward Bend\", \"Bridge\", \"Triangle\", \"Cobra\", \"Cat-Cow\", \"Plank\", \"Boat\", \"Camel\", \"Chair\", \"Corpse\", \"Crow\", \"Eagle\", \"Fish\", \"Half Moon\", \"Headstand\", \"Pigeon\", \"Shoulder Stand\", \"Side Plank\", \"Sphinx\", \"Supine Twist\", \"Upward-Facing Dog\", \"Wild Thing\", \"Wheel\"]\n",
    "# negative_key_word_list = []#[\"walking\", \"walks\", \"running\", \"runs\", \"sitting\", \"sits\", \"standing\", \"stands\", \"bending\", \"bends\", \"reaching\", \"reaches\", \"lifting\", \"lifts\", \"pushing\", \"pushes\", \"pulling\", \"pulls\", \"turning\", \"turns\", \"twisting\", \"twists\", \"stretching\", \"stretches\"]\n",
    "\n",
    "# High level dances:\n",
    "test_file_name = \"dance_low_level\"\n",
    "positive_key_word_list = [\"Moonwalk\", \"Pirouette\", \"Plié\", \"Jete\", \"Sashay\", \"Shimmy\", \"Tango\", \"Waltz\", \"Salsa\", \"Breakdance\", \"Cha-Cha\", \"Foxtrot\", \"Rumba\", \"Lindy Hop\", \"Quickstep\", \"Pas de Deux\", \"Arabesque\", \"Grand Jeté\", \"Chassé\", \"Fouetté\", \"Pas de Bourrée\", \"Grand Battement\", \"Tendu\", \"Glissade\", \"Cabriole\", \"Balloné\", \"Mazurka\", \"Fandango\", \"Bolero\", \"Twist\"]\n",
    "negative_key_word_list = []#[\"walking\", \"walks\", \"running\", \"runs\", \"sitting\", \"sits\", \"standing\", \"stands\", \"bending\", \"bends\", \"reaching\", \"reaches\", \"lifting\", \"lifts\", \"pushing\", \"pushes\", \"pulling\", \"pulls\", \"turning\", \"turns\", \"twisting\", \"twists\", \"stretching\", \"stretches\"]\n",
    "\n",
    "\n",
    "\n",
    "# Make sure these paths exists!\n",
    "dataset_path = os.path.join(PROJECT_ROOT_DIR, \"external_repos\", \"momask-codes\", \"dataset\", \"HumanML3D\")\n",
    "test_txt_file_path = os.path.join(dataset_path, \"test.txt\")\n",
    "texts_file_path = os.path.join(dataset_path, \"texts\")"
   ]
  },
  {
   "cell_type": "code",
   "execution_count": null,
   "metadata": {},
   "outputs": [],
   "source": [
    "# Convert all keywords to lower case as dataset consists of only lower case words\n",
    "positive_key_word_list = [keyword.lower() for keyword in positive_key_word_list]\n",
    "negative_key_word_list = [keyword.lower() for keyword in negative_key_word_list]"
   ]
  },
  {
   "cell_type": "code",
   "execution_count": null,
   "metadata": {},
   "outputs": [],
   "source": [
    "# Filter all test files\n",
    "old_id_list = []\n",
    "new_id_list = []\n",
    "with open(test_txt_file_path, 'r') as f:\n",
    "    for line in f.readlines():\n",
    "        old_id_list.append(line.strip())\n",
    "\n",
    "file_not_found_counter = 0\n",
    "for name in tqdm(old_id_list):\n",
    "    text_data = []\n",
    "    flag = False\n",
    "    try:\n",
    "        with open(os.path.join(texts_file_path, name + '.txt')) as f:\n",
    "            positive = False\n",
    "            negative = False\n",
    "            for line in f.readlines():\n",
    "                line_split = line.strip().split('#')\n",
    "                caption = line_split[0]\n",
    "                if any(word in caption for word in positive_key_word_list):\n",
    "                    positive = True\n",
    "                if any(word in caption for word in negative_key_word_list):\n",
    "                    negative = True\n",
    "            if positive and not negative:\n",
    "                new_id_list.append(name)\n",
    "    except FileNotFoundError as e:\n",
    "        file_not_found_counter += 1\n",
    "\n",
    "print(\"Finished\")\n",
    "print(\"files not found: \", file_not_found_counter)\n",
    "print(\"total old test files: \", len(old_id_list)-file_not_found_counter)\n",
    "print(\"total new test files: \", len(new_id_list))"
   ]
  },
  {
   "cell_type": "code",
   "execution_count": null,
   "metadata": {},
   "outputs": [],
   "source": [
    "# Save new test file\n",
    "test_file_name = \"test_\" + test_file_name + \"_filtered\" + \".txt\"\n",
    "test_file_path = os.path.join(dataset_path, test_file_name)\n",
    "\n",
    "# make sure it doesn't already exist\n",
    "if os.path.exists(test_file_path):\n",
    "    raise Exception(\"File already exists! Rename test_file_name to proceed with saving.\")\n",
    "\n",
    "with open(test_file_path, 'w') as f:\n",
    "    for name in new_id_list:\n",
    "        f.write(name + '\\n')\n"
   ]
  }
 ],
 "metadata": {
  "kernelspec": {
   "display_name": "digihumans",
   "language": "python",
   "name": "python3"
  },
  "language_info": {
   "codemirror_mode": {
    "name": "ipython",
    "version": 3
   },
   "file_extension": ".py",
   "mimetype": "text/x-python",
   "name": "python",
   "nbconvert_exporter": "python",
   "pygments_lexer": "ipython3",
   "version": "3.9.18"
  }
 },
 "nbformat": 4,
 "nbformat_minor": 2
}
