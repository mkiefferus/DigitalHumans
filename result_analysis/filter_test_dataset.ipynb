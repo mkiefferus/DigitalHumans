{
 "cells": [
  {
   "cell_type": "markdown",
   "metadata": {},
   "source": [
    "This file filters the test dataset from Momask T2M based on positive key words (=keep) and negative key words (=drop). Make sure, that the T2M dataset is accurately saved as described in the ReadMe of Momask.\n",
    "\n",
    "The file outputs a new \"test.txt\" file, which can replace the original T2M \"test.txt\" for evaluation."
   ]
  },
  {
   "cell_type": "code",
   "execution_count": 2,
   "metadata": {},
   "outputs": [],
   "source": [
    "# import statements\n",
    "import os\n",
    "from tqdm import tqdm"
   ]
  },
  {
   "cell_type": "code",
   "execution_count": 33,
   "metadata": {},
   "outputs": [],
   "source": [
    "# Change the following and uncomment the lists you want to use.\n",
    "PROJECT_ROOT_DIR = \"D:/ETH_Repos/DigitalHumans\" # the project root directory\n",
    "\n",
    "# left-right specification:\n",
    "# test_file_name = \"left_right\"\n",
    "# positive_key_word_list = [\"left\", \"right\"]\n",
    "# negative_key_word_list = []\n",
    "\n",
    "# emotions:\n",
    "# test_file_name = \"emotions\"\n",
    "# positive_key_word_list = [\"happy\", \"sad\", \"angry\", \"fearful\", \"surprised\", \"disgusted\", \"anxious\", \"confident\", \"jealous\", \"proud\", \"excited\", \"bored\", \"love\", \"hopeful\", \"guilty\", \"relieved\", \"ashamed\", \"embarrassed\", \"content\", \"frustrated\", \"happily\", \"sadly\", \"angrily\", \"fearfully\", \"surprisingly\", \"disgustedly\", \"anxiously\", \"confidently\", \"jealously\", \"proudly\", \"excitedly\", \"boredly\", \"lovingly\", \"hopefully\", \"guiltily\", \"relievedly\", \"ashamedly\", \"embarrassingly\", \"contentedly\", \"frustratedly\"]\n",
    "# negative_key_word_list = []\n",
    "\n",
    "# adjectives:\n",
    "# test_file_name = \"adjectives\"\n",
    "# positive_key_word_list = [\"fast\", \"slow\", \"graceful\", \"clumsy\", \"steady\", \"erratic\", \"quick\", \"lethargic\", \"smooth\", \"rough\", \"agile\", \"awkward\", \"nimble\", \"brisk\", \"sluggish\", \"hurried\", \"relaxed\", \"sprightly\", \"jerky\", \"fluid\", \"deliberate\", \"hasty\", \"cautious\", \"vigorous\", \"lively\", \"mechanical\", \"frenzied\", \"graceful\", \"haphazard\", \"energetic\", \"purposeful\", \"tentative\",  \"slowly\", \"gracefully\", \"clumsily\", \"steadily\", \"erratically\", \"quickly\", \"lethargically\", \"smoothly\", \"roughly\", \"agilely\", \"awkwardly\", \"nimbly\", \"briskly\", \"sluggishly\", \"hurriedly\", \"relaxedly\", \"sprightly\", \"jerkily\", \"fluidly\", \"deliberately\", \"hastily\", \"cautiously\", \"vigorously\", \"lively\", \"mechanically\", \"frenziedly\", \"gracefully\", \"haphazardly\", \"energetically\", \"purposefully\", \"tentatively\"]\n",
    "# negative_key_word_list = []\n",
    "\n",
    "# limbs:\n",
    "# test_file_name = \"limbs\"\n",
    "# positive_key_word_list = [\"head\", \"torso\", \"arm\", \"leg\", \"hand\", \"foot\", \"finger\", \"toe\", \"thumb\", \"wrist\", \"ankle\", \"elbow\", \"knee\", \"forearm\", \"upper arm\", \"shin\", \"calf\", \"thigh\", \"palm\", \"heel\", \"shoulder\", \"hip\", \"neck\", \"chest\", \"back\", \"abdomen\", \"waist\", \"groin\", \"buttocks\", \"nape\", \"scalp\", \"forehead\", \"cheek\", \"chin\", \"jaw\", \"nose\", \"mouth\", \"ear\", \"eye\", \"eyebrow\", \"eyelid\", \"lip\", \"tongue\"]\n",
    "# negative_key_word_list = []\n",
    "\n",
    "# High level motions (yoga/dance/instruments/etc.):\n",
    "test_file_name = \"high_level\"\n",
    "positive_key_word_list = [\"Moonwalk\", \"Pirouette\", \"Plié\", \"Jete\", \"Sashay\", \"Shimmy\", \"Tango\", \"Waltz\", \"Salsa\", \"Breakdance\", \"Cha-Cha\", \"Cha Cha\", \"Foxtrot\", \"Rumba\", \"Lindy Hop\", \"Quickstep\", \"Pas de Deux\", \"Arabesque\", \"Grand Jeté\", \"Chassé\", \"Fouetté\", \"Pas de Bourrée\", \"Grand Battement\", \"Tendu\", \"Glissade\", \"Cabriole\", \"Balloné\", \"Mazurka\", \"Fandango\", \"Bolero\",\n",
    "                          \"Mountain\", \"Downward-Facing Dog\", \"Warrior\", \"Tree\", \"Child Pose\", \"Seated Forward Bend\", \"Bridge\", \"Triangle\", \"Cobra\", \"Cat-Cow\", \"Plank\", \"Camel\", \"Corpse\", \"Crow\", \"Eagle\", \"Fish\", \"Half Moon\", \"Headstand\", \"Pigeon\", \"Shoulder Stand\", \"Side Plank\", \"Sphinx\", \"Supine Twist\", \"Upward-Facing Dog\", \"Wild Thing\",\n",
    "                          \"Floss\", \"Dab\", \"Shuffle\", \"Running Man\", \"Apple Jacks\", \"Ski\",\n",
    "                          \"Cello\", \"Harp\", \"Trumpet\", \"Saxophone\", \"Flute\", \"Clarinet\", \"Trombone\", \"Tuba\", \"Horn\", \"Oboe\", \"Bassoon\", \"Accordion\", \"Bagpipes\", \"Banjo\", \"Bass\"]\n",
    "negative_key_word_list = []#[\"walking\", \"walks\", \"running\", \"runs\", \"sitting\", \"sits\", \"standing\", \"stands\", \"bending\", \"bends\", \"reaching\", \"reaches\", \"lifting\", \"lifts\", \"pushing\", \"pushes\", \"pulling\", \"pulls\", \"turning\", \"turns\", \"twisting\", \"twists\", \"stretching\", \"stretches\"]\n",
    "\n",
    "# Make sure these paths exists!\n",
    "dataset_path = os.path.join(PROJECT_ROOT_DIR, \"external_repos\", \"momask-codes\", \"dataset\", \"HumanML3D\")\n",
    "test_txt_file_path = os.path.join(dataset_path, \"test.txt\")\n",
    "texts_file_path = os.path.join(dataset_path, \"texts\")"
   ]
  },
  {
   "cell_type": "code",
   "execution_count": 34,
   "metadata": {},
   "outputs": [],
   "source": [
    "# Convert all keywords to lower case as dataset consists of only lower case words\n",
    "positive_key_word_list = [keyword.lower() for keyword in positive_key_word_list]\n",
    "negative_key_word_list = [keyword.lower() for keyword in negative_key_word_list]"
   ]
  },
  {
   "cell_type": "code",
   "execution_count": 38,
   "metadata": {},
   "outputs": [
    {
     "name": "stderr",
     "output_type": "stream",
     "text": [
      " 15%|█▌        | 669/4384 [00:00<00:01, 3466.96it/s]"
     ]
    },
    {
     "name": "stdout",
     "output_type": "stream",
     "text": [
      "salsa\n",
      "he does a salsa dance\n",
      "waltz\n",
      "a man is practicing the waltz with a partner\n",
      "boat\n",
      "he rows on a big boat\n",
      "salsa\n",
      "the person is doing a salsa dance.\n",
      "shuffle\n",
      "a person takes a step forward then shuffles to the left. they take a step back and shuffle to the right. they do both motions again, then turn to the right before taking a step forward.\n",
      "salsa\n",
      "a person is doing a salsa dance moving their legs and arms.\n",
      "shuffle\n",
      "person walks around in half circles and then feet shuffle side to side\n"
     ]
    },
    {
     "name": "stderr",
     "output_type": "stream",
     "text": [
      " 34%|███▍      | 1497/4384 [00:00<00:00, 3923.11it/s]"
     ]
    },
    {
     "name": "stdout",
     "output_type": "stream",
     "text": [
      "ski\n",
      "mountain\n",
      "mountain\n",
      "ski mountain lodge  go down the mountain slowly\n",
      "salsa\n",
      "the man does a salsa dance all around the floor.\n",
      "waltz\n",
      "a man postures his arms like holding a dance partner and dances the waltz from the left hand side to the right hand side.\n",
      "shuffle\n",
      "a person does a rhythmic shuffle back and forth\n",
      "eagle\n",
      "a person jumps to a spread eagle position, then jumps to a feet together and hands above their head position.\n",
      "waltz\n",
      "a man does a box step waltz backwards.\n",
      "waltz\n",
      "a person emulates the motions of a waltz dance by going forward to the side, backward, and to the side again in a box motion.\n",
      "waltz\n",
      "a person dances in a simple waltz box pattern.\n"
     ]
    },
    {
     "name": "stderr",
     "output_type": "stream",
     "text": [
      " 63%|██████▎   | 2762/4384 [00:00<00:00, 4109.59it/s]"
     ]
    },
    {
     "name": "stdout",
     "output_type": "stream",
     "text": [
      "boat\n",
      "a person is removing an object from a wheel and then steering a large boat wheel.\n",
      "salsa\n",
      "he does a salsa dance\n",
      "waltz\n",
      "a man is practicing the waltz with a partner\n",
      "boat\n",
      "he rows on a big boat\n",
      "salsa\n",
      "the person is doing a salsa dance.\n",
      "shuffle\n",
      "a person takes a step forward then shuffles to the right. they take a step back and shuffle to the left. they do both motions again, then turn to the left before taking a step forward.\n",
      "salsa\n",
      "a person is doing a salsa dance moving their legs and arms.\n",
      "shuffle\n",
      "person walks around in half circles and then feet shuffle side to side\n"
     ]
    },
    {
     "name": "stderr",
     "output_type": "stream",
     "text": [
      " 81%|████████  | 3560/4384 [00:00<00:00, 3545.74it/s]"
     ]
    },
    {
     "name": "stdout",
     "output_type": "stream",
     "text": [
      "ski\n",
      "mountain\n",
      "mountain\n",
      "ski mountain lodge  go down the mountain slowly\n",
      "salsa\n",
      "the man does a salsa dance all around the floor.\n",
      "waltz\n",
      "a man postures his arms like holding a dance partner and dances the waltz from the right hand side to the left hand side.\n",
      "shuffle\n",
      "a person does a rhythmic shuffle back and forth\n",
      "eagle\n",
      "a person jumps to a spread eagle position, then jumps to a feet together and hands above their head position.\n"
     ]
    },
    {
     "name": "stderr",
     "output_type": "stream",
     "text": [
      "100%|██████████| 4384/4384 [00:01<00:00, 3754.68it/s]"
     ]
    },
    {
     "name": "stdout",
     "output_type": "stream",
     "text": [
      "waltz\n",
      "a man does a box step waltz backwards.\n",
      "waltz\n",
      "a person emulates the motions of a waltz dance by going forward to the side, backward, and to the side again in a box motion.\n",
      "waltz\n",
      "a person dances in a simple waltz box pattern.\n",
      "boat\n",
      "a person is removing an object from a wheel and then steering a large boat wheel.\n",
      "Finished\n",
      "files not found:  0\n",
      "total old test files:  4384\n",
      "total new test files:  28\n"
     ]
    },
    {
     "name": "stderr",
     "output_type": "stream",
     "text": [
      "\n"
     ]
    }
   ],
   "source": [
    "# Filter all test files\n",
    "old_id_list = []\n",
    "new_id_list = []\n",
    "with open(test_txt_file_path, 'r') as f:\n",
    "    for line in f.readlines():\n",
    "        old_id_list.append(line.strip())\n",
    "\n",
    "file_not_found_counter = 0\n",
    "for name in tqdm(old_id_list):\n",
    "    text_data = []\n",
    "    flag = False\n",
    "    try:\n",
    "        with open(os.path.join(texts_file_path, name + '.txt')) as f:\n",
    "            positive = False\n",
    "            negative = False\n",
    "            for line in f.readlines():\n",
    "                line_split = line.strip().split('#')\n",
    "                caption = line_split[0].split(' ')\n",
    "                if any(word in caption for word in positive_key_word_list):\n",
    "                    for word in caption:\n",
    "                        if word in positive_key_word_list:\n",
    "                            print(word)\n",
    "                    print(line_split[0])\n",
    "                    positive = True\n",
    "                if any(word in caption for word in negative_key_word_list):\n",
    "                    negative = True\n",
    "            if positive and not negative:\n",
    "                new_id_list.append(name)\n",
    "    except FileNotFoundError as e:\n",
    "        file_not_found_counter += 1\n",
    "\n",
    "print(\"Finished\")\n",
    "print(\"files not found: \", file_not_found_counter)\n",
    "print(\"total old test files: \", len(old_id_list)-file_not_found_counter)\n",
    "print(\"total new test files: \", len(new_id_list))"
   ]
  },
  {
   "cell_type": "code",
   "execution_count": 14,
   "metadata": {},
   "outputs": [],
   "source": [
    "# Save new test file\n",
    "test_file_name = \"test_\" + test_file_name + \"_filtered\" + \".txt\"\n",
    "test_file_path = os.path.join(dataset_path, test_file_name)\n",
    "\n",
    "# make sure it doesn't already exist\n",
    "if os.path.exists(test_file_path):\n",
    "    raise Exception(\"File already exists! Rename test_file_name to proceed with saving.\")\n",
    "\n",
    "with open(test_file_path, 'w') as f:\n",
    "    for name in new_id_list:\n",
    "        f.write(name + '\\n')\n"
   ]
  }
 ],
 "metadata": {
  "kernelspec": {
   "display_name": "digihumans",
   "language": "python",
   "name": "python3"
  },
  "language_info": {
   "codemirror_mode": {
    "name": "ipython",
    "version": 3
   },
   "file_extension": ".py",
   "mimetype": "text/x-python",
   "name": "python",
   "nbconvert_exporter": "python",
   "pygments_lexer": "ipython3",
   "version": "3.11.7"
  }
 },
 "nbformat": 4,
 "nbformat_minor": 2
}
